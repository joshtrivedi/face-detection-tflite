{
 "cells": [
  {
   "cell_type": "code",
   "execution_count": 6,
   "metadata": {},
   "outputs": [],
   "source": [
    "import numpy as np \n",
    "import pandas as pd \n",
    "import os \n",
    "import cv2 \n",
    "import gc \n",
    "from tqdm import tqdm"
   ]
  },
  {
   "cell_type": "code",
   "execution_count": 17,
   "metadata": {},
   "outputs": [
    {
     "data": {
      "text/plain": [
       "['aishwarya_rai',\n",
       " 'angelina_jolie',\n",
       " 'arnold_schwarzenegger',\n",
       " 'bhuvan_bam',\n",
       " 'brad_pitt',\n",
       " 'Courteney_Cox',\n",
       " 'David_Schwimmer',\n",
       " 'dhoni',\n",
       " 'hardik_pandya',\n",
       " 'Jennifer_Aniston',\n",
       " 'Jim_Parsons',\n",
       " 'Johnny_Galeck',\n",
       " 'Kunal_Nayya',\n",
       " 'Lisa_Kudrow',\n",
       " 'manoj_bajpayee',\n",
       " 'Matthew_Perry',\n",
       " 'Matt_LeBlanc',\n",
       " 'messi',\n",
       " 'mohamed_ali',\n",
       " 'Pankaj_Tripathi',\n",
       " 'pewdiepie',\n",
       " 'random_person',\n",
       " 'ROHIT_SHARMA',\n",
       " 'ronaldo',\n",
       " 'Sachin_Tendulka',\n",
       " 'scarlett_johansson',\n",
       " 'Simon_Helberg',\n",
       " 'suresh_raina',\n",
       " 'sylvester_stallone',\n",
       " 'virat_kohli']"
      ]
     },
     "execution_count": 17,
     "metadata": {},
     "output_type": "execute_result"
    }
   ],
   "source": [
    "files = os.listdir(\"./input/face-detection-data/dataset/\")\n",
    "files"
   ]
  },
  {
   "cell_type": "code",
   "execution_count": 18,
   "metadata": {},
   "outputs": [],
   "source": [
    "image_array = []\n",
    "\n",
    "label_array = []"
   ]
  },
  {
   "cell_type": "code",
   "execution_count": 22,
   "metadata": {},
   "outputs": [
    {
     "name": "stderr",
     "output_type": "stream",
     "text": [
      "100%|██████████| 711/711 [00:03<00:00, 201.76it/s]\n",
      "100%|██████████| 465/465 [00:03<00:00, 138.43it/s]\n",
      "100%|██████████| 553/553 [00:02<00:00, 249.44it/s]\n",
      "100%|██████████| 382/382 [00:00<00:00, 510.69it/s]\n",
      "100%|██████████| 552/552 [00:02<00:00, 187.88it/s]\n",
      "100%|██████████| 702/702 [00:03<00:00, 182.86it/s]\n",
      "100%|██████████| 537/537 [00:02<00:00, 187.05it/s]\n",
      "100%|██████████| 314/314 [00:00<00:00, 553.79it/s]\n",
      "100%|██████████| 292/292 [00:00<00:00, 500.00it/s]\n",
      "100%|██████████| 639/639 [00:03<00:00, 189.33it/s]\n",
      "100%|██████████| 639/639 [00:02<00:00, 299.30it/s]\n",
      "100%|██████████| 508/508 [00:02<00:00, 185.61it/s]\n",
      "100%|██████████| 532/532 [00:01<00:00, 332.71it/s]\n",
      "100%|██████████| 640/640 [00:03<00:00, 169.72it/s]\n",
      "100%|██████████| 457/457 [00:01<00:00, 443.69it/s]\n",
      "100%|██████████| 530/530 [00:02<00:00, 247.32it/s]\n",
      "100%|██████████| 449/449 [00:02<00:00, 195.81it/s]\n",
      "100%|██████████| 432/432 [00:01<00:00, 325.29it/s]\n",
      "100%|██████████| 338/338 [00:01<00:00, 213.92it/s]\n",
      "100%|██████████| 354/354 [00:00<00:00, 356.14it/s]\n",
      "100%|██████████| 395/395 [00:01<00:00, 310.05it/s]\n",
      "100%|██████████| 2250/2250 [00:04<00:00, 506.98it/s]\n",
      "100%|██████████| 265/265 [00:00<00:00, 579.87it/s]\n",
      "100%|██████████| 418/418 [00:01<00:00, 293.13it/s]\n",
      "100%|██████████| 354/354 [00:01<00:00, 267.98it/s]\n",
      "100%|██████████| 507/507 [00:03<00:00, 142.10it/s]\n",
      "100%|██████████| 484/484 [00:01<00:00, 261.20it/s]\n",
      "100%|██████████| 319/319 [00:00<00:00, 683.09it/s]\n",
      "100%|██████████| 480/480 [00:01<00:00, 250.26it/s]\n",
      "100%|██████████| 391/391 [00:01<00:00, 280.09it/s]\n"
     ]
    }
   ],
   "source": [
    "image_array=[]  # it's a list later i will convert it to array\n",
    "label_array=[]\n",
    "path=\"./input/face-detection-data/dataset/\"\n",
    "# loop through each sub-folder in train\n",
    "for i in range(len(files)):\n",
    "    # files in sub-folder\n",
    "    file_sub=os.listdir(path+files[i])\n",
    "\n",
    "    for k in tqdm(range(len(file_sub))):\n",
    "        try:\n",
    "            img=cv2.imread(path+files[i]+\"/\"+file_sub[k])\n",
    "            img=cv2.cvtColor(img,cv2.COLOR_BGR2RGB)\n",
    "            img=cv2.resize(img,(96,96))\n",
    "            image_array.append(img)\n",
    "            label_array.append(i)\n",
    "        except:\n",
    "            pass"
   ]
  },
  {
   "cell_type": "code",
   "execution_count": 23,
   "metadata": {},
   "outputs": [
    {
     "data": {
      "text/plain": [
       "512"
      ]
     },
     "execution_count": 23,
     "metadata": {},
     "output_type": "execute_result"
    }
   ],
   "source": [
    "import gc\n",
    "gc.collect()"
   ]
  },
  {
   "cell_type": "code",
   "execution_count": 26,
   "metadata": {},
   "outputs": [],
   "source": [
    "image_array = np.array(image_array)/255.0\n",
    "label_array = np.array(label_array)"
   ]
  },
  {
   "cell_type": "code",
   "execution_count": 27,
   "metadata": {},
   "outputs": [
    {
     "name": "stdout",
     "output_type": "stream",
     "text": [
      "[[[0.45490196 0.38823529 0.38039216]\n",
      "  [0.25490196 0.18823529 0.18039216]\n",
      "  [0.38823529 0.33333333 0.32156863]\n",
      "  ...\n",
      "  [0.52941176 0.5254902  0.50980392]\n",
      "  [0.27058824 0.28235294 0.2627451 ]\n",
      "  [0.25098039 0.25098039 0.24705882]]\n",
      "\n",
      " [[0.52941176 0.45490196 0.43529412]\n",
      "  [0.4        0.3254902  0.30588235]\n",
      "  [0.45098039 0.37647059 0.36078431]\n",
      "  ...\n",
      "  [0.30588235 0.30588235 0.29803922]\n",
      "  [0.30980392 0.31764706 0.31372549]\n",
      "  [0.25098039 0.24705882 0.26666667]]\n",
      "\n",
      " [[0.44705882 0.36862745 0.34117647]\n",
      "  [0.40784314 0.31764706 0.28627451]\n",
      "  [0.47843137 0.38431373 0.36862745]\n",
      "  ...\n",
      "  [0.36862745 0.36078431 0.36470588]\n",
      "  [0.29411765 0.29803922 0.30980392]\n",
      "  [0.24313725 0.23921569 0.26666667]]\n",
      "\n",
      " ...\n",
      "\n",
      " [[0.01176471 0.01176471 0.01176471]\n",
      "  [0.01176471 0.01176471 0.01176471]\n",
      "  [0.00784314 0.00784314 0.00784314]\n",
      "  ...\n",
      "  [0.05490196 0.05098039 0.07058824]\n",
      "  [0.04313725 0.03921569 0.05882353]\n",
      "  [0.05098039 0.04705882 0.06666667]]\n",
      "\n",
      " [[0.01176471 0.01176471 0.01176471]\n",
      "  [0.01176471 0.01176471 0.01176471]\n",
      "  [0.00784314 0.00784314 0.00784314]\n",
      "  ...\n",
      "  [0.05882353 0.05490196 0.0745098 ]\n",
      "  [0.03921569 0.03529412 0.05098039]\n",
      "  [0.04313725 0.03921569 0.0627451 ]]\n",
      "\n",
      " [[0.01176471 0.01176471 0.01176471]\n",
      "  [0.01176471 0.01176471 0.01176471]\n",
      "  [0.00392157 0.00392157 0.00392157]\n",
      "  ...\n",
      "  [0.05098039 0.04705882 0.06666667]\n",
      "  [0.05490196 0.05098039 0.07058824]\n",
      "  [0.05882353 0.05490196 0.0745098 ]]]\n"
     ]
    }
   ],
   "source": [
    "print(image_array[0])"
   ]
  },
  {
   "cell_type": "code",
   "execution_count": 29,
   "metadata": {},
   "outputs": [],
   "source": [
    "from sklearn.model_selection import train_test_split\n",
    "X_train,X_test,Y_train,Y_test=train_test_split(image_array,label_array,test_size=0.15)"
   ]
  },
  {
   "cell_type": "code",
   "execution_count": 30,
   "metadata": {},
   "outputs": [],
   "source": [
    "from keras import layers,callbacks,utils, applications, optimizers\n",
    "from keras.models import Sequential, Model, load_model"
   ]
  },
  {
   "cell_type": "code",
   "execution_count": 31,
   "metadata": {},
   "outputs": [
    {
     "data": {
      "text/plain": [
       "30"
      ]
     },
     "execution_count": 31,
     "metadata": {},
     "output_type": "execute_result"
    }
   ],
   "source": [
    "len(files)"
   ]
  },
  {
   "cell_type": "code",
   "execution_count": 34,
   "metadata": {},
   "outputs": [],
   "source": [
    "import tensorflow as tf"
   ]
  },
  {
   "cell_type": "code",
   "execution_count": 36,
   "metadata": {},
   "outputs": [
    {
     "name": "stdout",
     "output_type": "stream",
     "text": [
      "Model: \"sequential_2\"\n",
      "_________________________________________________________________\n",
      " Layer (type)                Output Shape              Param #   \n",
      "=================================================================\n",
      " efficientnetb0 (Functional)  (None, 3, 3, 1280)       4049571   \n",
      "                                                                 \n",
      " global_average_pooling2d (G  (None, 1280)             0         \n",
      " lobalAveragePooling2D)                                          \n",
      "                                                                 \n",
      " dropout_2 (Dropout)         (None, 1280)              0         \n",
      "                                                                 \n",
      " dense_1 (Dense)             (None, 1)                 1281      \n",
      "                                                                 \n",
      "=================================================================\n",
      "Total params: 4,050,852\n",
      "Trainable params: 4,008,829\n",
      "Non-trainable params: 42,023\n",
      "_________________________________________________________________\n"
     ]
    }
   ],
   "source": [
    "model = Sequential()\n",
    "pretrained_model = tf.keras.applications.EfficientNetB0(input_shape=(96,96,3),include_top=False, weights=\"imagenet\")\n",
    "model.add(pretrained_model)\n",
    "#im stupid i forgot pooling layers\n",
    "model.add(layers.GlobalAveragePooling2D())\n",
    "model.add(layers.Dropout(0.3))\n",
    "#add dense layers \n",
    "model.add(layers.Dense(1))\n",
    "model.summary()"
   ]
  },
  {
   "cell_type": "code",
   "execution_count": 37,
   "metadata": {},
   "outputs": [],
   "source": [
    "model.compile(optimizer = \"adam\", loss=\"mean_squared_error\",metrics=[\"mae\"])"
   ]
  },
  {
   "cell_type": "code",
   "execution_count": null,
   "metadata": {},
   "outputs": [],
   "source": [
    "checkpoint = \"trained_model/model\""
   ]
  }
 ],
 "metadata": {
  "interpreter": {
   "hash": "e6b762a07f6c8e0a94a13e5359212679065bc57a15737c665780439a61125a7b"
  },
  "kernelspec": {
   "display_name": "Python 3.9.10 64-bit (windows store)",
   "language": "python",
   "name": "python3"
  },
  "language_info": {
   "codemirror_mode": {
    "name": "ipython",
    "version": 3
   },
   "file_extension": ".py",
   "mimetype": "text/x-python",
   "name": "python",
   "nbconvert_exporter": "python",
   "pygments_lexer": "ipython3",
   "version": "3.9.10"
  },
  "orig_nbformat": 4
 },
 "nbformat": 4,
 "nbformat_minor": 2
}
