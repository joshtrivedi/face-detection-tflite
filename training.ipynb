{
 "cells": [
  {
   "cell_type": "code",
   "execution_count": 1,
   "metadata": {},
   "outputs": [],
   "source": [
    "import numpy as np \n",
    "import pandas as pd \n",
    "import os \n",
    "import cv2 \n",
    "import gc \n",
    "from tqdm import tqdm"
   ]
  },
  {
   "cell_type": "code",
   "execution_count": 2,
   "metadata": {},
   "outputs": [
    {
     "data": {
      "text/plain": [
       "['aishwarya_rai',\n",
       " 'angelina_jolie',\n",
       " 'arnold_schwarzenegger',\n",
       " 'bhuvan_bam',\n",
       " 'brad_pitt',\n",
       " 'Courteney_Cox',\n",
       " 'David_Schwimmer',\n",
       " 'dhoni',\n",
       " 'hardik_pandya',\n",
       " 'Jennifer_Aniston',\n",
       " 'Jim_Parsons',\n",
       " 'Johnny_Galeck',\n",
       " 'Kunal_Nayya',\n",
       " 'Lisa_Kudrow',\n",
       " 'manoj_bajpayee',\n",
       " 'Matthew_Perry',\n",
       " 'Matt_LeBlanc',\n",
       " 'messi',\n",
       " 'mohamed_ali',\n",
       " 'Pankaj_Tripathi',\n",
       " 'pewdiepie',\n",
       " 'random_person',\n",
       " 'ROHIT_SHARMA',\n",
       " 'ronaldo',\n",
       " 'Sachin_Tendulka',\n",
       " 'scarlett_johansson',\n",
       " 'Simon_Helberg',\n",
       " 'suresh_raina',\n",
       " 'sylvester_stallone',\n",
       " 'virat_kohli']"
      ]
     },
     "execution_count": 2,
     "metadata": {},
     "output_type": "execute_result"
    }
   ],
   "source": [
    "files = os.listdir(\"./input/face-detection-data/dataset/\")\n",
    "files"
   ]
  },
  {
   "cell_type": "code",
   "execution_count": 3,
   "metadata": {},
   "outputs": [],
   "source": [
    "image_array = []\n",
    "\n",
    "label_array = []"
   ]
  },
  {
   "cell_type": "code",
   "execution_count": 4,
   "metadata": {},
   "outputs": [
    {
     "name": "stderr",
     "output_type": "stream",
     "text": [
      "100%|██████████| 711/711 [00:11<00:00, 59.32it/s]\n",
      "100%|██████████| 465/465 [00:09<00:00, 47.90it/s]\n",
      "100%|██████████| 553/553 [00:03<00:00, 172.75it/s]\n",
      "100%|██████████| 382/382 [00:01<00:00, 286.69it/s]\n",
      "100%|██████████| 552/552 [00:03<00:00, 156.34it/s]\n",
      "100%|██████████| 702/702 [00:05<00:00, 132.49it/s]\n",
      "100%|██████████| 537/537 [00:04<00:00, 117.34it/s]\n",
      "100%|██████████| 314/314 [00:00<00:00, 373.79it/s]\n",
      "100%|██████████| 292/292 [00:00<00:00, 319.38it/s]\n",
      "100%|██████████| 639/639 [00:03<00:00, 165.31it/s]\n",
      "100%|██████████| 639/639 [00:03<00:00, 206.25it/s]\n",
      "100%|██████████| 508/508 [00:03<00:00, 147.80it/s]\n",
      "100%|██████████| 532/532 [00:05<00:00, 105.65it/s]\n",
      "100%|██████████| 640/640 [00:09<00:00, 66.28it/s]\n",
      "100%|██████████| 457/457 [00:05<00:00, 90.69it/s]\n",
      "100%|██████████| 530/530 [00:08<00:00, 65.04it/s]\n",
      "100%|██████████| 449/449 [00:08<00:00, 54.98it/s]\n",
      "100%|██████████| 432/432 [00:04<00:00, 87.13it/s]\n",
      "100%|██████████| 338/338 [00:04<00:00, 73.54it/s]\n",
      "100%|██████████| 354/354 [00:04<00:00, 81.98it/s]\n",
      "100%|██████████| 395/395 [00:04<00:00, 82.43it/s]\n",
      "100%|██████████| 2250/2250 [00:22<00:00, 98.03it/s] \n",
      "100%|██████████| 265/265 [00:02<00:00, 95.98it/s]\n",
      "100%|██████████| 418/418 [00:05<00:00, 79.67it/s]\n",
      "100%|██████████| 354/354 [00:04<00:00, 74.11it/s]\n",
      "100%|██████████| 507/507 [00:08<00:00, 56.76it/s]\n",
      "100%|██████████| 484/484 [00:06<00:00, 71.94it/s]\n",
      "100%|██████████| 319/319 [00:03<00:00, 98.15it/s] \n",
      "100%|██████████| 480/480 [00:06<00:00, 71.14it/s]\n",
      "100%|██████████| 391/391 [00:02<00:00, 145.05it/s]\n"
     ]
    }
   ],
   "source": [
    "image_array=[]  # it's a list later i will convert it to array\n",
    "label_array=[]\n",
    "path=\"./input/face-detection-data/dataset/\"\n",
    "# loop through each sub-folder in train\n",
    "for i in range(len(files)):\n",
    "    # files in sub-folder\n",
    "    file_sub=os.listdir(path+files[i])\n",
    "\n",
    "    for k in tqdm(range(len(file_sub))):\n",
    "        try:\n",
    "            img=cv2.imread(path+files[i]+\"/\"+file_sub[k])\n",
    "            img=cv2.cvtColor(img,cv2.COLOR_BGR2RGB)\n",
    "            img=cv2.resize(img,(96,96))\n",
    "            image_array.append(img)\n",
    "            label_array.append(i)\n",
    "        except:\n",
    "            pass"
   ]
  },
  {
   "cell_type": "code",
   "execution_count": 5,
   "metadata": {},
   "outputs": [
    {
     "data": {
      "text/plain": [
       "9"
      ]
     },
     "execution_count": 5,
     "metadata": {},
     "output_type": "execute_result"
    }
   ],
   "source": [
    "import gc\n",
    "gc.collect()"
   ]
  },
  {
   "cell_type": "code",
   "execution_count": 6,
   "metadata": {},
   "outputs": [],
   "source": [
    "image_array = np.array(image_array)/255.0\n",
    "label_array = np.array(label_array)"
   ]
  },
  {
   "cell_type": "code",
   "execution_count": 7,
   "metadata": {},
   "outputs": [
    {
     "name": "stdout",
     "output_type": "stream",
     "text": [
      "[[[0.45490196 0.38823529 0.38039216]\n",
      "  [0.25490196 0.18823529 0.18039216]\n",
      "  [0.38823529 0.33333333 0.32156863]\n",
      "  ...\n",
      "  [0.52941176 0.5254902  0.50980392]\n",
      "  [0.27058824 0.28235294 0.2627451 ]\n",
      "  [0.25098039 0.25098039 0.24705882]]\n",
      "\n",
      " [[0.52941176 0.45490196 0.43529412]\n",
      "  [0.4        0.3254902  0.30588235]\n",
      "  [0.45098039 0.37647059 0.36078431]\n",
      "  ...\n",
      "  [0.30588235 0.30588235 0.29803922]\n",
      "  [0.30980392 0.31764706 0.31372549]\n",
      "  [0.25098039 0.24705882 0.26666667]]\n",
      "\n",
      " [[0.44705882 0.36862745 0.34117647]\n",
      "  [0.40784314 0.31764706 0.28627451]\n",
      "  [0.47843137 0.38431373 0.36862745]\n",
      "  ...\n",
      "  [0.36862745 0.36078431 0.36470588]\n",
      "  [0.29411765 0.29803922 0.30980392]\n",
      "  [0.24313725 0.23921569 0.26666667]]\n",
      "\n",
      " ...\n",
      "\n",
      " [[0.01176471 0.01176471 0.01176471]\n",
      "  [0.01176471 0.01176471 0.01176471]\n",
      "  [0.00784314 0.00784314 0.00784314]\n",
      "  ...\n",
      "  [0.05490196 0.05098039 0.07058824]\n",
      "  [0.04313725 0.03921569 0.05882353]\n",
      "  [0.05098039 0.04705882 0.06666667]]\n",
      "\n",
      " [[0.01176471 0.01176471 0.01176471]\n",
      "  [0.01176471 0.01176471 0.01176471]\n",
      "  [0.00784314 0.00784314 0.00784314]\n",
      "  ...\n",
      "  [0.05882353 0.05490196 0.0745098 ]\n",
      "  [0.03921569 0.03529412 0.05098039]\n",
      "  [0.04313725 0.03921569 0.0627451 ]]\n",
      "\n",
      " [[0.01176471 0.01176471 0.01176471]\n",
      "  [0.01176471 0.01176471 0.01176471]\n",
      "  [0.00392157 0.00392157 0.00392157]\n",
      "  ...\n",
      "  [0.05098039 0.04705882 0.06666667]\n",
      "  [0.05490196 0.05098039 0.07058824]\n",
      "  [0.05882353 0.05490196 0.0745098 ]]]\n"
     ]
    }
   ],
   "source": [
    "print(image_array[0])"
   ]
  },
  {
   "cell_type": "code",
   "execution_count": 8,
   "metadata": {},
   "outputs": [],
   "source": [
    "from sklearn.model_selection import train_test_split\n",
    "X_train,X_test,Y_train,Y_test=train_test_split(image_array,label_array,test_size=0.15)"
   ]
  },
  {
   "cell_type": "code",
   "execution_count": 9,
   "metadata": {},
   "outputs": [],
   "source": [
    "from keras import layers,callbacks,utils, applications, optimizers\n",
    "from keras.models import Sequential, Model, load_model"
   ]
  },
  {
   "cell_type": "code",
   "execution_count": 10,
   "metadata": {},
   "outputs": [
    {
     "data": {
      "text/plain": [
       "30"
      ]
     },
     "execution_count": 10,
     "metadata": {},
     "output_type": "execute_result"
    }
   ],
   "source": [
    "len(files)"
   ]
  },
  {
   "cell_type": "code",
   "execution_count": 11,
   "metadata": {},
   "outputs": [],
   "source": [
    "import tensorflow as tf"
   ]
  },
  {
   "cell_type": "code",
   "execution_count": 12,
   "metadata": {},
   "outputs": [
    {
     "name": "stdout",
     "output_type": "stream",
     "text": [
      "Model: \"sequential\"\n",
      "_________________________________________________________________\n",
      " Layer (type)                Output Shape              Param #   \n",
      "=================================================================\n",
      " efficientnetb0 (Functional)  (None, 3, 3, 1280)       4049571   \n",
      "                                                                 \n",
      " global_average_pooling2d (G  (None, 1280)             0         \n",
      " lobalAveragePooling2D)                                          \n",
      "                                                                 \n",
      " dropout (Dropout)           (None, 1280)              0         \n",
      "                                                                 \n",
      " dense (Dense)               (None, 1)                 1281      \n",
      "                                                                 \n",
      "=================================================================\n",
      "Total params: 4,050,852\n",
      "Trainable params: 4,008,829\n",
      "Non-trainable params: 42,023\n",
      "_________________________________________________________________\n"
     ]
    }
   ],
   "source": [
    "model = Sequential()\n",
    "pretrained_model = tf.keras.applications.EfficientNetB0(input_shape=(96,96,3),include_top=False, weights=\"imagenet\")\n",
    "model.add(pretrained_model)\n",
    "#im stupid i forgot pooling layers\n",
    "model.add(layers.GlobalAveragePooling2D())\n",
    "model.add(layers.Dropout(0.3))\n",
    "#add dense layers \n",
    "model.add(layers.Dense(1))\n",
    "model.summary()"
   ]
  },
  {
   "cell_type": "code",
   "execution_count": 13,
   "metadata": {},
   "outputs": [],
   "source": [
    "model.compile(optimizer = \"adam\", loss=\"mean_squared_error\",metrics=[\"mae\"])"
   ]
  },
  {
   "cell_type": "code",
   "execution_count": 14,
   "metadata": {},
   "outputs": [],
   "source": [
    "checkpoint = \"trained_model/model\""
   ]
  },
  {
   "cell_type": "code",
   "execution_count": 15,
   "metadata": {},
   "outputs": [],
   "source": [
    "model_checkpoint=tf.keras.callbacks.ModelCheckpoint(filepath=checkpoint,monitor=\"val_mae\",mode=\"auto\",save_best_only=True,save_weigts_only=True)\n",
    "reduce_lf=tf.keras.callbacks.ReduceLROnPlateau(factor=0.9, monitor=\"val_mae\",mode=\"auto\",cooldown=0,patience=5, verbose=1, mon_lr=1e-6)"
   ]
  },
  {
   "cell_type": "code",
   "execution_count": 16,
   "metadata": {},
   "outputs": [
    {
     "name": "stdout",
     "output_type": "stream",
     "text": [
      "Epoch 1/300\n",
      "212/212 [==============================] - ETA: 0s - loss: 53.1501 - mae: 5.4756INFO:tensorflow:Assets written to: trained_model\\model\\assets\n"
     ]
    },
    {
     "name": "stderr",
     "output_type": "stream",
     "text": [
      "C:\\Users\\josht\\AppData\\Local\\Packages\\PythonSoftwareFoundation.Python.3.9_qbz5n2kfra8p0\\LocalCache\\local-packages\\Python39\\site-packages\\keras\\engine\\functional.py:1410: CustomMaskWarning: Custom mask layers require a config and must override get_config. When loading, the custom mask layer must be passed to the custom_objects argument.\n",
      "  layer_config = serialize_layer_fn(layer)\n",
      "C:\\Users\\josht\\AppData\\Local\\Packages\\PythonSoftwareFoundation.Python.3.9_qbz5n2kfra8p0\\LocalCache\\local-packages\\Python39\\site-packages\\keras\\saving\\saved_model\\layer_serialization.py:112: CustomMaskWarning: Custom mask layers require a config and must override get_config. When loading, the custom mask layer must be passed to the custom_objects argument.\n",
      "  return generic_utils.serialize_keras_object(obj)\n"
     ]
    },
    {
     "name": "stdout",
     "output_type": "stream",
     "text": [
      "212/212 [==============================] - 510s 2s/step - loss: 53.1501 - mae: 5.4756 - val_loss: 76.5722 - val_mae: 7.5662 - lr: 0.0010\n",
      "Epoch 2/300\n",
      "212/212 [==============================] - ETA: 0s - loss: 21.7467 - mae: 3.3222INFO:tensorflow:Assets written to: trained_model\\model\\assets\n"
     ]
    },
    {
     "name": "stderr",
     "output_type": "stream",
     "text": [
      "C:\\Users\\josht\\AppData\\Local\\Packages\\PythonSoftwareFoundation.Python.3.9_qbz5n2kfra8p0\\LocalCache\\local-packages\\Python39\\site-packages\\keras\\engine\\functional.py:1410: CustomMaskWarning: Custom mask layers require a config and must override get_config. When loading, the custom mask layer must be passed to the custom_objects argument.\n",
      "  layer_config = serialize_layer_fn(layer)\n",
      "C:\\Users\\josht\\AppData\\Local\\Packages\\PythonSoftwareFoundation.Python.3.9_qbz5n2kfra8p0\\LocalCache\\local-packages\\Python39\\site-packages\\keras\\saving\\saved_model\\layer_serialization.py:112: CustomMaskWarning: Custom mask layers require a config and must override get_config. When loading, the custom mask layer must be passed to the custom_objects argument.\n",
      "  return generic_utils.serialize_keras_object(obj)\n"
     ]
    },
    {
     "name": "stdout",
     "output_type": "stream",
     "text": [
      "212/212 [==============================] - 488s 2s/step - loss: 21.7467 - mae: 3.3222 - val_loss: 76.6303 - val_mae: 7.5048 - lr: 0.0010\n",
      "Epoch 3/300\n",
      "212/212 [==============================] - ETA: 0s - loss: 15.4177 - mae: 2.6876INFO:tensorflow:Assets written to: trained_model\\model\\assets\n"
     ]
    },
    {
     "name": "stderr",
     "output_type": "stream",
     "text": [
      "C:\\Users\\josht\\AppData\\Local\\Packages\\PythonSoftwareFoundation.Python.3.9_qbz5n2kfra8p0\\LocalCache\\local-packages\\Python39\\site-packages\\keras\\engine\\functional.py:1410: CustomMaskWarning: Custom mask layers require a config and must override get_config. When loading, the custom mask layer must be passed to the custom_objects argument.\n",
      "  layer_config = serialize_layer_fn(layer)\n",
      "C:\\Users\\josht\\AppData\\Local\\Packages\\PythonSoftwareFoundation.Python.3.9_qbz5n2kfra8p0\\LocalCache\\local-packages\\Python39\\site-packages\\keras\\saving\\saved_model\\layer_serialization.py:112: CustomMaskWarning: Custom mask layers require a config and must override get_config. When loading, the custom mask layer must be passed to the custom_objects argument.\n",
      "  return generic_utils.serialize_keras_object(obj)\n"
     ]
    },
    {
     "name": "stdout",
     "output_type": "stream",
     "text": [
      "212/212 [==============================] - 457s 2s/step - loss: 15.4177 - mae: 2.6876 - val_loss: 72.8174 - val_mae: 7.3870 - lr: 0.0010\n",
      "Epoch 4/300\n",
      "212/212 [==============================] - 416s 2s/step - loss: 10.7537 - mae: 2.1976 - val_loss: 89.8309 - val_mae: 8.0470 - lr: 0.0010\n",
      "Epoch 5/300\n",
      "212/212 [==============================] - 410s 2s/step - loss: 9.2003 - mae: 1.9836 - val_loss: 173.9108 - val_mae: 10.9397 - lr: 0.0010\n",
      "Epoch 6/300\n",
      "212/212 [==============================] - ETA: 0s - loss: 7.4818 - mae: 1.7788INFO:tensorflow:Assets written to: trained_model\\model\\assets\n"
     ]
    },
    {
     "name": "stderr",
     "output_type": "stream",
     "text": [
      "C:\\Users\\josht\\AppData\\Local\\Packages\\PythonSoftwareFoundation.Python.3.9_qbz5n2kfra8p0\\LocalCache\\local-packages\\Python39\\site-packages\\keras\\engine\\functional.py:1410: CustomMaskWarning: Custom mask layers require a config and must override get_config. When loading, the custom mask layer must be passed to the custom_objects argument.\n",
      "  layer_config = serialize_layer_fn(layer)\n",
      "C:\\Users\\josht\\AppData\\Local\\Packages\\PythonSoftwareFoundation.Python.3.9_qbz5n2kfra8p0\\LocalCache\\local-packages\\Python39\\site-packages\\keras\\saving\\saved_model\\layer_serialization.py:112: CustomMaskWarning: Custom mask layers require a config and must override get_config. When loading, the custom mask layer must be passed to the custom_objects argument.\n",
      "  return generic_utils.serialize_keras_object(obj)\n"
     ]
    },
    {
     "name": "stdout",
     "output_type": "stream",
     "text": [
      "212/212 [==============================] - 476s 2s/step - loss: 7.4818 - mae: 1.7788 - val_loss: 71.9066 - val_mae: 7.1377 - lr: 0.0010\n",
      "Epoch 7/300\n",
      "212/212 [==============================] - 402s 2s/step - loss: 7.6666 - mae: 1.7495 - val_loss: 83.9828 - val_mae: 7.8166 - lr: 0.0010\n",
      "Epoch 8/300\n",
      "212/212 [==============================] - 408s 2s/step - loss: 5.7965 - mae: 1.4948 - val_loss: 133.9656 - val_mae: 9.4911 - lr: 0.0010\n",
      "Epoch 9/300\n",
      "212/212 [==============================] - 405s 2s/step - loss: 4.9988 - mae: 1.4039 - val_loss: 148.2282 - val_mae: 10.1122 - lr: 0.0010\n",
      "Epoch 10/300\n",
      "212/212 [==============================] - 369s 2s/step - loss: 5.2370 - mae: 1.3976 - val_loss: 271.7807 - val_mae: 14.2079 - lr: 0.0010\n",
      "Epoch 11/300\n",
      "212/212 [==============================] - ETA: 0s - loss: 4.4984 - mae: 1.3258\n",
      "Epoch 00011: ReduceLROnPlateau reducing learning rate to 0.0009000000427477062.\n",
      "212/212 [==============================] - 360s 2s/step - loss: 4.4984 - mae: 1.3258 - val_loss: 80.1155 - val_mae: 7.6251 - lr: 0.0010\n",
      "Epoch 12/300\n",
      "212/212 [==============================] - 360s 2s/step - loss: 3.8060 - mae: 1.1532 - val_loss: 302.6735 - val_mae: 15.1964 - lr: 9.0000e-04\n",
      "Epoch 13/300\n",
      "212/212 [==============================] - ETA: 0s - loss: 4.4191 - mae: 1.2756INFO:tensorflow:Assets written to: trained_model\\model\\assets\n"
     ]
    },
    {
     "name": "stderr",
     "output_type": "stream",
     "text": [
      "C:\\Users\\josht\\AppData\\Local\\Packages\\PythonSoftwareFoundation.Python.3.9_qbz5n2kfra8p0\\LocalCache\\local-packages\\Python39\\site-packages\\keras\\engine\\functional.py:1410: CustomMaskWarning: Custom mask layers require a config and must override get_config. When loading, the custom mask layer must be passed to the custom_objects argument.\n",
      "  layer_config = serialize_layer_fn(layer)\n",
      "C:\\Users\\josht\\AppData\\Local\\Packages\\PythonSoftwareFoundation.Python.3.9_qbz5n2kfra8p0\\LocalCache\\local-packages\\Python39\\site-packages\\keras\\saving\\saved_model\\layer_serialization.py:112: CustomMaskWarning: Custom mask layers require a config and must override get_config. When loading, the custom mask layer must be passed to the custom_objects argument.\n",
      "  return generic_utils.serialize_keras_object(obj)\n"
     ]
    },
    {
     "name": "stdout",
     "output_type": "stream",
     "text": [
      "212/212 [==============================] - 418s 2s/step - loss: 4.4191 - mae: 1.2756 - val_loss: 60.7989 - val_mae: 6.4333 - lr: 9.0000e-04\n",
      "Epoch 14/300\n",
      "212/212 [==============================] - 360s 2s/step - loss: 4.2926 - mae: 1.2790 - val_loss: 73.4100 - val_mae: 7.4084 - lr: 9.0000e-04\n",
      "Epoch 15/300\n",
      "212/212 [==============================] - 367s 2s/step - loss: 4.7130 - mae: 1.3143 - val_loss: 75.0683 - val_mae: 7.2697 - lr: 9.0000e-04\n",
      "Epoch 16/300\n",
      "212/212 [==============================] - 386s 2s/step - loss: 4.4143 - mae: 1.2321 - val_loss: 156.2603 - val_mae: 10.4035 - lr: 9.0000e-04\n",
      "Epoch 17/300\n",
      "212/212 [==============================] - 399s 2s/step - loss: 3.7478 - mae: 1.1344 - val_loss: 78.5717 - val_mae: 7.2876 - lr: 9.0000e-04\n",
      "Epoch 18/300\n",
      "212/212 [==============================] - ETA: 0s - loss: 4.1800 - mae: 1.2040\n",
      "Epoch 00018: ReduceLROnPlateau reducing learning rate to 0.0008100000384729356.\n",
      "212/212 [==============================] - 397s 2s/step - loss: 4.1800 - mae: 1.2040 - val_loss: 70.4546 - val_mae: 7.2559 - lr: 9.0000e-04\n",
      "Epoch 19/300\n",
      "212/212 [==============================] - 384s 2s/step - loss: 2.5849 - mae: 0.9525 - val_loss: 76.5330 - val_mae: 7.3634 - lr: 8.1000e-04\n",
      "Epoch 20/300\n",
      "212/212 [==============================] - 366s 2s/step - loss: 2.6781 - mae: 1.0166 - val_loss: 70.1023 - val_mae: 7.2250 - lr: 8.1000e-04\n",
      "Epoch 21/300\n",
      "212/212 [==============================] - 359s 2s/step - loss: 2.3324 - mae: 0.9099 - val_loss: 136.6326 - val_mae: 9.5438 - lr: 8.1000e-04\n",
      "Epoch 22/300\n",
      "212/212 [==============================] - 347s 2s/step - loss: 2.1145 - mae: 0.8241 - val_loss: 219.9223 - val_mae: 12.5036 - lr: 8.1000e-04\n",
      "Epoch 23/300\n",
      "212/212 [==============================] - ETA: 0s - loss: 1.7979 - mae: 0.7829\n",
      "Epoch 00023: ReduceLROnPlateau reducing learning rate to 0.0007290000503417104.\n",
      "212/212 [==============================] - 333s 2s/step - loss: 1.7979 - mae: 0.7829 - val_loss: 77.8967 - val_mae: 7.4735 - lr: 8.1000e-04\n",
      "Epoch 24/300\n",
      "212/212 [==============================] - 355s 2s/step - loss: 2.2047 - mae: 0.8348 - val_loss: 74.0097 - val_mae: 7.2245 - lr: 7.2900e-04\n",
      "Epoch 25/300\n",
      "212/212 [==============================] - 358s 2s/step - loss: 1.4755 - mae: 0.7320 - val_loss: 69.0853 - val_mae: 6.9157 - lr: 7.2900e-04\n",
      "Epoch 26/300\n",
      "212/212 [==============================] - 361s 2s/step - loss: 1.4394 - mae: 0.7004 - val_loss: 78.0742 - val_mae: 7.2313 - lr: 7.2900e-04\n",
      "Epoch 27/300\n",
      "212/212 [==============================] - 362s 2s/step - loss: 1.4053 - mae: 0.7084 - val_loss: 76.7366 - val_mae: 7.3804 - lr: 7.2900e-04\n",
      "Epoch 28/300\n",
      "212/212 [==============================] - ETA: 0s - loss: 1.1410 - mae: 0.6397\n",
      "Epoch 00028: ReduceLROnPlateau reducing learning rate to 0.0006561000715009868.\n",
      "212/212 [==============================] - 390s 2s/step - loss: 1.1410 - mae: 0.6397 - val_loss: 90.2549 - val_mae: 7.7113 - lr: 7.2900e-04\n",
      "Epoch 29/300\n",
      "212/212 [==============================] - 448s 2s/step - loss: 1.4384 - mae: 0.7105 - val_loss: 266.6891 - val_mae: 14.0334 - lr: 6.5610e-04\n",
      "Epoch 30/300\n",
      "  7/212 [..............................] - ETA: 8:15 - loss: 6.1573 - mae: 2.0570"
     ]
    },
    {
     "ename": "KeyboardInterrupt",
     "evalue": "",
     "output_type": "error",
     "traceback": [
      "\u001b[1;31m---------------------------------------------------------------------------\u001b[0m",
      "\u001b[1;31mKeyboardInterrupt\u001b[0m                         Traceback (most recent call last)",
      "\u001b[1;32mc:\\Users\\josht\\OneDrive\\Documents\\face-detection\\face-detection-tflite\\training.ipynb Cell 16'\u001b[0m in \u001b[0;36m<module>\u001b[1;34m\u001b[0m\n\u001b[0;32m      <a href='vscode-notebook-cell:/c%3A/Users/josht/OneDrive/Documents/face-detection/face-detection-tflite/training.ipynb#ch0000015?line=1'>2</a>\u001b[0m EPOCHS\u001b[39m=\u001b[39m\u001b[39m300\u001b[39m\n\u001b[0;32m      <a href='vscode-notebook-cell:/c%3A/Users/josht/OneDrive/Documents/face-detection/face-detection-tflite/training.ipynb#ch0000015?line=2'>3</a>\u001b[0m BATCH_SIZE\u001b[39m=\u001b[39m\u001b[39m64\u001b[39m\n\u001b[1;32m----> <a href='vscode-notebook-cell:/c%3A/Users/josht/OneDrive/Documents/face-detection/face-detection-tflite/training.ipynb#ch0000015?line=4'>5</a>\u001b[0m history\u001b[39m=\u001b[39mmodel\u001b[39m.\u001b[39;49mfit(X_train,\n\u001b[0;32m      <a href='vscode-notebook-cell:/c%3A/Users/josht/OneDrive/Documents/face-detection/face-detection-tflite/training.ipynb#ch0000015?line=5'>6</a>\u001b[0m                  Y_train,\n\u001b[0;32m      <a href='vscode-notebook-cell:/c%3A/Users/josht/OneDrive/Documents/face-detection/face-detection-tflite/training.ipynb#ch0000015?line=6'>7</a>\u001b[0m                  validation_data\u001b[39m=\u001b[39;49m(X_test,Y_test),\n\u001b[0;32m      <a href='vscode-notebook-cell:/c%3A/Users/josht/OneDrive/Documents/face-detection/face-detection-tflite/training.ipynb#ch0000015?line=7'>8</a>\u001b[0m                  batch_size\u001b[39m=\u001b[39;49mBATCH_SIZE,\n\u001b[0;32m      <a href='vscode-notebook-cell:/c%3A/Users/josht/OneDrive/Documents/face-detection/face-detection-tflite/training.ipynb#ch0000015?line=8'>9</a>\u001b[0m                  epochs\u001b[39m=\u001b[39;49mEPOCHS,\n\u001b[0;32m     <a href='vscode-notebook-cell:/c%3A/Users/josht/OneDrive/Documents/face-detection/face-detection-tflite/training.ipynb#ch0000015?line=9'>10</a>\u001b[0m                  callbacks\u001b[39m=\u001b[39;49m[model_checkpoint,reduce_lf]\n\u001b[0;32m     <a href='vscode-notebook-cell:/c%3A/Users/josht/OneDrive/Documents/face-detection/face-detection-tflite/training.ipynb#ch0000015?line=10'>11</a>\u001b[0m                  )\n",
      "File \u001b[1;32m~\\AppData\\Local\\Packages\\PythonSoftwareFoundation.Python.3.9_qbz5n2kfra8p0\\LocalCache\\local-packages\\Python39\\site-packages\\keras\\utils\\traceback_utils.py:64\u001b[0m, in \u001b[0;36mfilter_traceback.<locals>.error_handler\u001b[1;34m(*args, **kwargs)\u001b[0m\n\u001b[0;32m     <a href='file:///~/AppData/Local/Packages/PythonSoftwareFoundation.Python.3.9_qbz5n2kfra8p0/LocalCache/local-packages/Python39/site-packages/keras/utils/traceback_utils.py?line=61'>62</a>\u001b[0m filtered_tb \u001b[39m=\u001b[39m \u001b[39mNone\u001b[39;00m\n\u001b[0;32m     <a href='file:///~/AppData/Local/Packages/PythonSoftwareFoundation.Python.3.9_qbz5n2kfra8p0/LocalCache/local-packages/Python39/site-packages/keras/utils/traceback_utils.py?line=62'>63</a>\u001b[0m \u001b[39mtry\u001b[39;00m:\n\u001b[1;32m---> <a href='file:///~/AppData/Local/Packages/PythonSoftwareFoundation.Python.3.9_qbz5n2kfra8p0/LocalCache/local-packages/Python39/site-packages/keras/utils/traceback_utils.py?line=63'>64</a>\u001b[0m   \u001b[39mreturn\u001b[39;00m fn(\u001b[39m*\u001b[39margs, \u001b[39m*\u001b[39m\u001b[39m*\u001b[39mkwargs)\n\u001b[0;32m     <a href='file:///~/AppData/Local/Packages/PythonSoftwareFoundation.Python.3.9_qbz5n2kfra8p0/LocalCache/local-packages/Python39/site-packages/keras/utils/traceback_utils.py?line=64'>65</a>\u001b[0m \u001b[39mexcept\u001b[39;00m \u001b[39mException\u001b[39;00m \u001b[39mas\u001b[39;00m e:  \u001b[39m# pylint: disable=broad-except\u001b[39;00m\n\u001b[0;32m     <a href='file:///~/AppData/Local/Packages/PythonSoftwareFoundation.Python.3.9_qbz5n2kfra8p0/LocalCache/local-packages/Python39/site-packages/keras/utils/traceback_utils.py?line=65'>66</a>\u001b[0m   filtered_tb \u001b[39m=\u001b[39m _process_traceback_frames(e\u001b[39m.\u001b[39m__traceback__)\n",
      "File \u001b[1;32m~\\AppData\\Local\\Packages\\PythonSoftwareFoundation.Python.3.9_qbz5n2kfra8p0\\LocalCache\\local-packages\\Python39\\site-packages\\keras\\engine\\training.py:1216\u001b[0m, in \u001b[0;36mModel.fit\u001b[1;34m(self, x, y, batch_size, epochs, verbose, callbacks, validation_split, validation_data, shuffle, class_weight, sample_weight, initial_epoch, steps_per_epoch, validation_steps, validation_batch_size, validation_freq, max_queue_size, workers, use_multiprocessing)\u001b[0m\n\u001b[0;32m   <a href='file:///~/AppData/Local/Packages/PythonSoftwareFoundation.Python.3.9_qbz5n2kfra8p0/LocalCache/local-packages/Python39/site-packages/keras/engine/training.py?line=1208'>1209</a>\u001b[0m \u001b[39mwith\u001b[39;00m tf\u001b[39m.\u001b[39mprofiler\u001b[39m.\u001b[39mexperimental\u001b[39m.\u001b[39mTrace(\n\u001b[0;32m   <a href='file:///~/AppData/Local/Packages/PythonSoftwareFoundation.Python.3.9_qbz5n2kfra8p0/LocalCache/local-packages/Python39/site-packages/keras/engine/training.py?line=1209'>1210</a>\u001b[0m     \u001b[39m'\u001b[39m\u001b[39mtrain\u001b[39m\u001b[39m'\u001b[39m,\n\u001b[0;32m   <a href='file:///~/AppData/Local/Packages/PythonSoftwareFoundation.Python.3.9_qbz5n2kfra8p0/LocalCache/local-packages/Python39/site-packages/keras/engine/training.py?line=1210'>1211</a>\u001b[0m     epoch_num\u001b[39m=\u001b[39mepoch,\n\u001b[0;32m   <a href='file:///~/AppData/Local/Packages/PythonSoftwareFoundation.Python.3.9_qbz5n2kfra8p0/LocalCache/local-packages/Python39/site-packages/keras/engine/training.py?line=1211'>1212</a>\u001b[0m     step_num\u001b[39m=\u001b[39mstep,\n\u001b[0;32m   <a href='file:///~/AppData/Local/Packages/PythonSoftwareFoundation.Python.3.9_qbz5n2kfra8p0/LocalCache/local-packages/Python39/site-packages/keras/engine/training.py?line=1212'>1213</a>\u001b[0m     batch_size\u001b[39m=\u001b[39mbatch_size,\n\u001b[0;32m   <a href='file:///~/AppData/Local/Packages/PythonSoftwareFoundation.Python.3.9_qbz5n2kfra8p0/LocalCache/local-packages/Python39/site-packages/keras/engine/training.py?line=1213'>1214</a>\u001b[0m     _r\u001b[39m=\u001b[39m\u001b[39m1\u001b[39m):\n\u001b[0;32m   <a href='file:///~/AppData/Local/Packages/PythonSoftwareFoundation.Python.3.9_qbz5n2kfra8p0/LocalCache/local-packages/Python39/site-packages/keras/engine/training.py?line=1214'>1215</a>\u001b[0m   callbacks\u001b[39m.\u001b[39mon_train_batch_begin(step)\n\u001b[1;32m-> <a href='file:///~/AppData/Local/Packages/PythonSoftwareFoundation.Python.3.9_qbz5n2kfra8p0/LocalCache/local-packages/Python39/site-packages/keras/engine/training.py?line=1215'>1216</a>\u001b[0m   tmp_logs \u001b[39m=\u001b[39m \u001b[39mself\u001b[39;49m\u001b[39m.\u001b[39;49mtrain_function(iterator)\n\u001b[0;32m   <a href='file:///~/AppData/Local/Packages/PythonSoftwareFoundation.Python.3.9_qbz5n2kfra8p0/LocalCache/local-packages/Python39/site-packages/keras/engine/training.py?line=1216'>1217</a>\u001b[0m   \u001b[39mif\u001b[39;00m data_handler\u001b[39m.\u001b[39mshould_sync:\n\u001b[0;32m   <a href='file:///~/AppData/Local/Packages/PythonSoftwareFoundation.Python.3.9_qbz5n2kfra8p0/LocalCache/local-packages/Python39/site-packages/keras/engine/training.py?line=1217'>1218</a>\u001b[0m     context\u001b[39m.\u001b[39masync_wait()\n",
      "File \u001b[1;32m~\\AppData\\Local\\Packages\\PythonSoftwareFoundation.Python.3.9_qbz5n2kfra8p0\\LocalCache\\local-packages\\Python39\\site-packages\\tensorflow\\python\\util\\traceback_utils.py:150\u001b[0m, in \u001b[0;36mfilter_traceback.<locals>.error_handler\u001b[1;34m(*args, **kwargs)\u001b[0m\n\u001b[0;32m    <a href='file:///~/AppData/Local/Packages/PythonSoftwareFoundation.Python.3.9_qbz5n2kfra8p0/LocalCache/local-packages/Python39/site-packages/tensorflow/python/util/traceback_utils.py?line=147'>148</a>\u001b[0m filtered_tb \u001b[39m=\u001b[39m \u001b[39mNone\u001b[39;00m\n\u001b[0;32m    <a href='file:///~/AppData/Local/Packages/PythonSoftwareFoundation.Python.3.9_qbz5n2kfra8p0/LocalCache/local-packages/Python39/site-packages/tensorflow/python/util/traceback_utils.py?line=148'>149</a>\u001b[0m \u001b[39mtry\u001b[39;00m:\n\u001b[1;32m--> <a href='file:///~/AppData/Local/Packages/PythonSoftwareFoundation.Python.3.9_qbz5n2kfra8p0/LocalCache/local-packages/Python39/site-packages/tensorflow/python/util/traceback_utils.py?line=149'>150</a>\u001b[0m   \u001b[39mreturn\u001b[39;00m fn(\u001b[39m*\u001b[39margs, \u001b[39m*\u001b[39m\u001b[39m*\u001b[39mkwargs)\n\u001b[0;32m    <a href='file:///~/AppData/Local/Packages/PythonSoftwareFoundation.Python.3.9_qbz5n2kfra8p0/LocalCache/local-packages/Python39/site-packages/tensorflow/python/util/traceback_utils.py?line=150'>151</a>\u001b[0m \u001b[39mexcept\u001b[39;00m \u001b[39mException\u001b[39;00m \u001b[39mas\u001b[39;00m e:\n\u001b[0;32m    <a href='file:///~/AppData/Local/Packages/PythonSoftwareFoundation.Python.3.9_qbz5n2kfra8p0/LocalCache/local-packages/Python39/site-packages/tensorflow/python/util/traceback_utils.py?line=151'>152</a>\u001b[0m   filtered_tb \u001b[39m=\u001b[39m _process_traceback_frames(e\u001b[39m.\u001b[39m__traceback__)\n",
      "File \u001b[1;32m~\\AppData\\Local\\Packages\\PythonSoftwareFoundation.Python.3.9_qbz5n2kfra8p0\\LocalCache\\local-packages\\Python39\\site-packages\\tensorflow\\python\\eager\\def_function.py:910\u001b[0m, in \u001b[0;36mFunction.__call__\u001b[1;34m(self, *args, **kwds)\u001b[0m\n\u001b[0;32m    <a href='file:///~/AppData/Local/Packages/PythonSoftwareFoundation.Python.3.9_qbz5n2kfra8p0/LocalCache/local-packages/Python39/site-packages/tensorflow/python/eager/def_function.py?line=906'>907</a>\u001b[0m compiler \u001b[39m=\u001b[39m \u001b[39m\"\u001b[39m\u001b[39mxla\u001b[39m\u001b[39m\"\u001b[39m \u001b[39mif\u001b[39;00m \u001b[39mself\u001b[39m\u001b[39m.\u001b[39m_jit_compile \u001b[39melse\u001b[39;00m \u001b[39m\"\u001b[39m\u001b[39mnonXla\u001b[39m\u001b[39m\"\u001b[39m\n\u001b[0;32m    <a href='file:///~/AppData/Local/Packages/PythonSoftwareFoundation.Python.3.9_qbz5n2kfra8p0/LocalCache/local-packages/Python39/site-packages/tensorflow/python/eager/def_function.py?line=908'>909</a>\u001b[0m \u001b[39mwith\u001b[39;00m OptionalXlaContext(\u001b[39mself\u001b[39m\u001b[39m.\u001b[39m_jit_compile):\n\u001b[1;32m--> <a href='file:///~/AppData/Local/Packages/PythonSoftwareFoundation.Python.3.9_qbz5n2kfra8p0/LocalCache/local-packages/Python39/site-packages/tensorflow/python/eager/def_function.py?line=909'>910</a>\u001b[0m   result \u001b[39m=\u001b[39m \u001b[39mself\u001b[39m\u001b[39m.\u001b[39m_call(\u001b[39m*\u001b[39margs, \u001b[39m*\u001b[39m\u001b[39m*\u001b[39mkwds)\n\u001b[0;32m    <a href='file:///~/AppData/Local/Packages/PythonSoftwareFoundation.Python.3.9_qbz5n2kfra8p0/LocalCache/local-packages/Python39/site-packages/tensorflow/python/eager/def_function.py?line=911'>912</a>\u001b[0m new_tracing_count \u001b[39m=\u001b[39m \u001b[39mself\u001b[39m\u001b[39m.\u001b[39mexperimental_get_tracing_count()\n\u001b[0;32m    <a href='file:///~/AppData/Local/Packages/PythonSoftwareFoundation.Python.3.9_qbz5n2kfra8p0/LocalCache/local-packages/Python39/site-packages/tensorflow/python/eager/def_function.py?line=912'>913</a>\u001b[0m without_tracing \u001b[39m=\u001b[39m (tracing_count \u001b[39m==\u001b[39m new_tracing_count)\n",
      "File \u001b[1;32m~\\AppData\\Local\\Packages\\PythonSoftwareFoundation.Python.3.9_qbz5n2kfra8p0\\LocalCache\\local-packages\\Python39\\site-packages\\tensorflow\\python\\eager\\def_function.py:942\u001b[0m, in \u001b[0;36mFunction._call\u001b[1;34m(self, *args, **kwds)\u001b[0m\n\u001b[0;32m    <a href='file:///~/AppData/Local/Packages/PythonSoftwareFoundation.Python.3.9_qbz5n2kfra8p0/LocalCache/local-packages/Python39/site-packages/tensorflow/python/eager/def_function.py?line=938'>939</a>\u001b[0m   \u001b[39mself\u001b[39m\u001b[39m.\u001b[39m_lock\u001b[39m.\u001b[39mrelease()\n\u001b[0;32m    <a href='file:///~/AppData/Local/Packages/PythonSoftwareFoundation.Python.3.9_qbz5n2kfra8p0/LocalCache/local-packages/Python39/site-packages/tensorflow/python/eager/def_function.py?line=939'>940</a>\u001b[0m   \u001b[39m# In this case we have created variables on the first call, so we run the\u001b[39;00m\n\u001b[0;32m    <a href='file:///~/AppData/Local/Packages/PythonSoftwareFoundation.Python.3.9_qbz5n2kfra8p0/LocalCache/local-packages/Python39/site-packages/tensorflow/python/eager/def_function.py?line=940'>941</a>\u001b[0m   \u001b[39m# defunned version which is guaranteed to never create variables.\u001b[39;00m\n\u001b[1;32m--> <a href='file:///~/AppData/Local/Packages/PythonSoftwareFoundation.Python.3.9_qbz5n2kfra8p0/LocalCache/local-packages/Python39/site-packages/tensorflow/python/eager/def_function.py?line=941'>942</a>\u001b[0m   \u001b[39mreturn\u001b[39;00m \u001b[39mself\u001b[39m\u001b[39m.\u001b[39m_stateless_fn(\u001b[39m*\u001b[39margs, \u001b[39m*\u001b[39m\u001b[39m*\u001b[39mkwds)  \u001b[39m# pylint: disable=not-callable\u001b[39;00m\n\u001b[0;32m    <a href='file:///~/AppData/Local/Packages/PythonSoftwareFoundation.Python.3.9_qbz5n2kfra8p0/LocalCache/local-packages/Python39/site-packages/tensorflow/python/eager/def_function.py?line=942'>943</a>\u001b[0m \u001b[39melif\u001b[39;00m \u001b[39mself\u001b[39m\u001b[39m.\u001b[39m_stateful_fn \u001b[39mis\u001b[39;00m \u001b[39mnot\u001b[39;00m \u001b[39mNone\u001b[39;00m:\n\u001b[0;32m    <a href='file:///~/AppData/Local/Packages/PythonSoftwareFoundation.Python.3.9_qbz5n2kfra8p0/LocalCache/local-packages/Python39/site-packages/tensorflow/python/eager/def_function.py?line=943'>944</a>\u001b[0m   \u001b[39m# Release the lock early so that multiple threads can perform the call\u001b[39;00m\n\u001b[0;32m    <a href='file:///~/AppData/Local/Packages/PythonSoftwareFoundation.Python.3.9_qbz5n2kfra8p0/LocalCache/local-packages/Python39/site-packages/tensorflow/python/eager/def_function.py?line=944'>945</a>\u001b[0m   \u001b[39m# in parallel.\u001b[39;00m\n\u001b[0;32m    <a href='file:///~/AppData/Local/Packages/PythonSoftwareFoundation.Python.3.9_qbz5n2kfra8p0/LocalCache/local-packages/Python39/site-packages/tensorflow/python/eager/def_function.py?line=945'>946</a>\u001b[0m   \u001b[39mself\u001b[39m\u001b[39m.\u001b[39m_lock\u001b[39m.\u001b[39mrelease()\n",
      "File \u001b[1;32m~\\AppData\\Local\\Packages\\PythonSoftwareFoundation.Python.3.9_qbz5n2kfra8p0\\LocalCache\\local-packages\\Python39\\site-packages\\tensorflow\\python\\eager\\function.py:3130\u001b[0m, in \u001b[0;36mFunction.__call__\u001b[1;34m(self, *args, **kwargs)\u001b[0m\n\u001b[0;32m   <a href='file:///~/AppData/Local/Packages/PythonSoftwareFoundation.Python.3.9_qbz5n2kfra8p0/LocalCache/local-packages/Python39/site-packages/tensorflow/python/eager/function.py?line=3126'>3127</a>\u001b[0m \u001b[39mwith\u001b[39;00m \u001b[39mself\u001b[39m\u001b[39m.\u001b[39m_lock:\n\u001b[0;32m   <a href='file:///~/AppData/Local/Packages/PythonSoftwareFoundation.Python.3.9_qbz5n2kfra8p0/LocalCache/local-packages/Python39/site-packages/tensorflow/python/eager/function.py?line=3127'>3128</a>\u001b[0m   (graph_function,\n\u001b[0;32m   <a href='file:///~/AppData/Local/Packages/PythonSoftwareFoundation.Python.3.9_qbz5n2kfra8p0/LocalCache/local-packages/Python39/site-packages/tensorflow/python/eager/function.py?line=3128'>3129</a>\u001b[0m    filtered_flat_args) \u001b[39m=\u001b[39m \u001b[39mself\u001b[39m\u001b[39m.\u001b[39m_maybe_define_function(args, kwargs)\n\u001b[1;32m-> <a href='file:///~/AppData/Local/Packages/PythonSoftwareFoundation.Python.3.9_qbz5n2kfra8p0/LocalCache/local-packages/Python39/site-packages/tensorflow/python/eager/function.py?line=3129'>3130</a>\u001b[0m \u001b[39mreturn\u001b[39;00m graph_function\u001b[39m.\u001b[39;49m_call_flat(\n\u001b[0;32m   <a href='file:///~/AppData/Local/Packages/PythonSoftwareFoundation.Python.3.9_qbz5n2kfra8p0/LocalCache/local-packages/Python39/site-packages/tensorflow/python/eager/function.py?line=3130'>3131</a>\u001b[0m     filtered_flat_args, captured_inputs\u001b[39m=\u001b[39;49mgraph_function\u001b[39m.\u001b[39;49mcaptured_inputs)\n",
      "File \u001b[1;32m~\\AppData\\Local\\Packages\\PythonSoftwareFoundation.Python.3.9_qbz5n2kfra8p0\\LocalCache\\local-packages\\Python39\\site-packages\\tensorflow\\python\\eager\\function.py:1959\u001b[0m, in \u001b[0;36mConcreteFunction._call_flat\u001b[1;34m(self, args, captured_inputs, cancellation_manager)\u001b[0m\n\u001b[0;32m   <a href='file:///~/AppData/Local/Packages/PythonSoftwareFoundation.Python.3.9_qbz5n2kfra8p0/LocalCache/local-packages/Python39/site-packages/tensorflow/python/eager/function.py?line=1954'>1955</a>\u001b[0m possible_gradient_type \u001b[39m=\u001b[39m gradients_util\u001b[39m.\u001b[39mPossibleTapeGradientTypes(args)\n\u001b[0;32m   <a href='file:///~/AppData/Local/Packages/PythonSoftwareFoundation.Python.3.9_qbz5n2kfra8p0/LocalCache/local-packages/Python39/site-packages/tensorflow/python/eager/function.py?line=1955'>1956</a>\u001b[0m \u001b[39mif\u001b[39;00m (possible_gradient_type \u001b[39m==\u001b[39m gradients_util\u001b[39m.\u001b[39mPOSSIBLE_GRADIENT_TYPES_NONE\n\u001b[0;32m   <a href='file:///~/AppData/Local/Packages/PythonSoftwareFoundation.Python.3.9_qbz5n2kfra8p0/LocalCache/local-packages/Python39/site-packages/tensorflow/python/eager/function.py?line=1956'>1957</a>\u001b[0m     \u001b[39mand\u001b[39;00m executing_eagerly):\n\u001b[0;32m   <a href='file:///~/AppData/Local/Packages/PythonSoftwareFoundation.Python.3.9_qbz5n2kfra8p0/LocalCache/local-packages/Python39/site-packages/tensorflow/python/eager/function.py?line=1957'>1958</a>\u001b[0m   \u001b[39m# No tape is watching; skip to running the function.\u001b[39;00m\n\u001b[1;32m-> <a href='file:///~/AppData/Local/Packages/PythonSoftwareFoundation.Python.3.9_qbz5n2kfra8p0/LocalCache/local-packages/Python39/site-packages/tensorflow/python/eager/function.py?line=1958'>1959</a>\u001b[0m   \u001b[39mreturn\u001b[39;00m \u001b[39mself\u001b[39m\u001b[39m.\u001b[39m_build_call_outputs(\u001b[39mself\u001b[39;49m\u001b[39m.\u001b[39;49m_inference_function\u001b[39m.\u001b[39;49mcall(\n\u001b[0;32m   <a href='file:///~/AppData/Local/Packages/PythonSoftwareFoundation.Python.3.9_qbz5n2kfra8p0/LocalCache/local-packages/Python39/site-packages/tensorflow/python/eager/function.py?line=1959'>1960</a>\u001b[0m       ctx, args, cancellation_manager\u001b[39m=\u001b[39;49mcancellation_manager))\n\u001b[0;32m   <a href='file:///~/AppData/Local/Packages/PythonSoftwareFoundation.Python.3.9_qbz5n2kfra8p0/LocalCache/local-packages/Python39/site-packages/tensorflow/python/eager/function.py?line=1960'>1961</a>\u001b[0m forward_backward \u001b[39m=\u001b[39m \u001b[39mself\u001b[39m\u001b[39m.\u001b[39m_select_forward_and_backward_functions(\n\u001b[0;32m   <a href='file:///~/AppData/Local/Packages/PythonSoftwareFoundation.Python.3.9_qbz5n2kfra8p0/LocalCache/local-packages/Python39/site-packages/tensorflow/python/eager/function.py?line=1961'>1962</a>\u001b[0m     args,\n\u001b[0;32m   <a href='file:///~/AppData/Local/Packages/PythonSoftwareFoundation.Python.3.9_qbz5n2kfra8p0/LocalCache/local-packages/Python39/site-packages/tensorflow/python/eager/function.py?line=1962'>1963</a>\u001b[0m     possible_gradient_type,\n\u001b[0;32m   <a href='file:///~/AppData/Local/Packages/PythonSoftwareFoundation.Python.3.9_qbz5n2kfra8p0/LocalCache/local-packages/Python39/site-packages/tensorflow/python/eager/function.py?line=1963'>1964</a>\u001b[0m     executing_eagerly)\n\u001b[0;32m   <a href='file:///~/AppData/Local/Packages/PythonSoftwareFoundation.Python.3.9_qbz5n2kfra8p0/LocalCache/local-packages/Python39/site-packages/tensorflow/python/eager/function.py?line=1964'>1965</a>\u001b[0m forward_function, args_with_tangents \u001b[39m=\u001b[39m forward_backward\u001b[39m.\u001b[39mforward()\n",
      "File \u001b[1;32m~\\AppData\\Local\\Packages\\PythonSoftwareFoundation.Python.3.9_qbz5n2kfra8p0\\LocalCache\\local-packages\\Python39\\site-packages\\tensorflow\\python\\eager\\function.py:598\u001b[0m, in \u001b[0;36m_EagerDefinedFunction.call\u001b[1;34m(self, ctx, args, cancellation_manager)\u001b[0m\n\u001b[0;32m    <a href='file:///~/AppData/Local/Packages/PythonSoftwareFoundation.Python.3.9_qbz5n2kfra8p0/LocalCache/local-packages/Python39/site-packages/tensorflow/python/eager/function.py?line=595'>596</a>\u001b[0m \u001b[39mwith\u001b[39;00m _InterpolateFunctionError(\u001b[39mself\u001b[39m):\n\u001b[0;32m    <a href='file:///~/AppData/Local/Packages/PythonSoftwareFoundation.Python.3.9_qbz5n2kfra8p0/LocalCache/local-packages/Python39/site-packages/tensorflow/python/eager/function.py?line=596'>597</a>\u001b[0m   \u001b[39mif\u001b[39;00m cancellation_manager \u001b[39mis\u001b[39;00m \u001b[39mNone\u001b[39;00m:\n\u001b[1;32m--> <a href='file:///~/AppData/Local/Packages/PythonSoftwareFoundation.Python.3.9_qbz5n2kfra8p0/LocalCache/local-packages/Python39/site-packages/tensorflow/python/eager/function.py?line=597'>598</a>\u001b[0m     outputs \u001b[39m=\u001b[39m execute\u001b[39m.\u001b[39;49mexecute(\n\u001b[0;32m    <a href='file:///~/AppData/Local/Packages/PythonSoftwareFoundation.Python.3.9_qbz5n2kfra8p0/LocalCache/local-packages/Python39/site-packages/tensorflow/python/eager/function.py?line=598'>599</a>\u001b[0m         \u001b[39mstr\u001b[39;49m(\u001b[39mself\u001b[39;49m\u001b[39m.\u001b[39;49msignature\u001b[39m.\u001b[39;49mname),\n\u001b[0;32m    <a href='file:///~/AppData/Local/Packages/PythonSoftwareFoundation.Python.3.9_qbz5n2kfra8p0/LocalCache/local-packages/Python39/site-packages/tensorflow/python/eager/function.py?line=599'>600</a>\u001b[0m         num_outputs\u001b[39m=\u001b[39;49m\u001b[39mself\u001b[39;49m\u001b[39m.\u001b[39;49m_num_outputs,\n\u001b[0;32m    <a href='file:///~/AppData/Local/Packages/PythonSoftwareFoundation.Python.3.9_qbz5n2kfra8p0/LocalCache/local-packages/Python39/site-packages/tensorflow/python/eager/function.py?line=600'>601</a>\u001b[0m         inputs\u001b[39m=\u001b[39;49margs,\n\u001b[0;32m    <a href='file:///~/AppData/Local/Packages/PythonSoftwareFoundation.Python.3.9_qbz5n2kfra8p0/LocalCache/local-packages/Python39/site-packages/tensorflow/python/eager/function.py?line=601'>602</a>\u001b[0m         attrs\u001b[39m=\u001b[39;49mattrs,\n\u001b[0;32m    <a href='file:///~/AppData/Local/Packages/PythonSoftwareFoundation.Python.3.9_qbz5n2kfra8p0/LocalCache/local-packages/Python39/site-packages/tensorflow/python/eager/function.py?line=602'>603</a>\u001b[0m         ctx\u001b[39m=\u001b[39;49mctx)\n\u001b[0;32m    <a href='file:///~/AppData/Local/Packages/PythonSoftwareFoundation.Python.3.9_qbz5n2kfra8p0/LocalCache/local-packages/Python39/site-packages/tensorflow/python/eager/function.py?line=603'>604</a>\u001b[0m   \u001b[39melse\u001b[39;00m:\n\u001b[0;32m    <a href='file:///~/AppData/Local/Packages/PythonSoftwareFoundation.Python.3.9_qbz5n2kfra8p0/LocalCache/local-packages/Python39/site-packages/tensorflow/python/eager/function.py?line=604'>605</a>\u001b[0m     outputs \u001b[39m=\u001b[39m execute\u001b[39m.\u001b[39mexecute_with_cancellation(\n\u001b[0;32m    <a href='file:///~/AppData/Local/Packages/PythonSoftwareFoundation.Python.3.9_qbz5n2kfra8p0/LocalCache/local-packages/Python39/site-packages/tensorflow/python/eager/function.py?line=605'>606</a>\u001b[0m         \u001b[39mstr\u001b[39m(\u001b[39mself\u001b[39m\u001b[39m.\u001b[39msignature\u001b[39m.\u001b[39mname),\n\u001b[0;32m    <a href='file:///~/AppData/Local/Packages/PythonSoftwareFoundation.Python.3.9_qbz5n2kfra8p0/LocalCache/local-packages/Python39/site-packages/tensorflow/python/eager/function.py?line=606'>607</a>\u001b[0m         num_outputs\u001b[39m=\u001b[39m\u001b[39mself\u001b[39m\u001b[39m.\u001b[39m_num_outputs,\n\u001b[1;32m   (...)\u001b[0m\n\u001b[0;32m    <a href='file:///~/AppData/Local/Packages/PythonSoftwareFoundation.Python.3.9_qbz5n2kfra8p0/LocalCache/local-packages/Python39/site-packages/tensorflow/python/eager/function.py?line=609'>610</a>\u001b[0m         ctx\u001b[39m=\u001b[39mctx,\n\u001b[0;32m    <a href='file:///~/AppData/Local/Packages/PythonSoftwareFoundation.Python.3.9_qbz5n2kfra8p0/LocalCache/local-packages/Python39/site-packages/tensorflow/python/eager/function.py?line=610'>611</a>\u001b[0m         cancellation_manager\u001b[39m=\u001b[39mcancellation_manager)\n",
      "File \u001b[1;32m~\\AppData\\Local\\Packages\\PythonSoftwareFoundation.Python.3.9_qbz5n2kfra8p0\\LocalCache\\local-packages\\Python39\\site-packages\\tensorflow\\python\\eager\\execute.py:58\u001b[0m, in \u001b[0;36mquick_execute\u001b[1;34m(op_name, num_outputs, inputs, attrs, ctx, name)\u001b[0m\n\u001b[0;32m     <a href='file:///~/AppData/Local/Packages/PythonSoftwareFoundation.Python.3.9_qbz5n2kfra8p0/LocalCache/local-packages/Python39/site-packages/tensorflow/python/eager/execute.py?line=55'>56</a>\u001b[0m \u001b[39mtry\u001b[39;00m:\n\u001b[0;32m     <a href='file:///~/AppData/Local/Packages/PythonSoftwareFoundation.Python.3.9_qbz5n2kfra8p0/LocalCache/local-packages/Python39/site-packages/tensorflow/python/eager/execute.py?line=56'>57</a>\u001b[0m   ctx\u001b[39m.\u001b[39mensure_initialized()\n\u001b[1;32m---> <a href='file:///~/AppData/Local/Packages/PythonSoftwareFoundation.Python.3.9_qbz5n2kfra8p0/LocalCache/local-packages/Python39/site-packages/tensorflow/python/eager/execute.py?line=57'>58</a>\u001b[0m   tensors \u001b[39m=\u001b[39m pywrap_tfe\u001b[39m.\u001b[39;49mTFE_Py_Execute(ctx\u001b[39m.\u001b[39;49m_handle, device_name, op_name,\n\u001b[0;32m     <a href='file:///~/AppData/Local/Packages/PythonSoftwareFoundation.Python.3.9_qbz5n2kfra8p0/LocalCache/local-packages/Python39/site-packages/tensorflow/python/eager/execute.py?line=58'>59</a>\u001b[0m                                       inputs, attrs, num_outputs)\n\u001b[0;32m     <a href='file:///~/AppData/Local/Packages/PythonSoftwareFoundation.Python.3.9_qbz5n2kfra8p0/LocalCache/local-packages/Python39/site-packages/tensorflow/python/eager/execute.py?line=59'>60</a>\u001b[0m \u001b[39mexcept\u001b[39;00m core\u001b[39m.\u001b[39m_NotOkStatusException \u001b[39mas\u001b[39;00m e:\n\u001b[0;32m     <a href='file:///~/AppData/Local/Packages/PythonSoftwareFoundation.Python.3.9_qbz5n2kfra8p0/LocalCache/local-packages/Python39/site-packages/tensorflow/python/eager/execute.py?line=60'>61</a>\u001b[0m   \u001b[39mif\u001b[39;00m name \u001b[39mis\u001b[39;00m \u001b[39mnot\u001b[39;00m \u001b[39mNone\u001b[39;00m:\n",
      "\u001b[1;31mKeyboardInterrupt\u001b[0m: "
     ]
    }
   ],
   "source": [
    "#main\n",
    "EPOCHS=300\n",
    "BATCH_SIZE=64\n",
    "\n",
    "history=model.fit(X_train,\n",
    "                 Y_train,\n",
    "                 validation_data=(X_test,Y_test),\n",
    "                 batch_size=BATCH_SIZE,\n",
    "                 epochs=EPOCHS,\n",
    "                 callbacks=[model_checkpoint,reduce_lf ]\n",
    "                 )"
   ]
  },
  {
   "cell_type": "code",
   "execution_count": null,
   "metadata": {},
   "outputs": [],
   "source": []
  }
 ],
 "metadata": {
  "interpreter": {
   "hash": "e6b762a07f6c8e0a94a13e5359212679065bc57a15737c665780439a61125a7b"
  },
  "kernelspec": {
   "display_name": "Python 3.9.10 64-bit (windows store)",
   "language": "python",
   "name": "python3"
  },
  "language_info": {
   "codemirror_mode": {
    "name": "ipython",
    "version": 3
   },
   "file_extension": ".py",
   "mimetype": "text/x-python",
   "name": "python",
   "nbconvert_exporter": "python",
   "pygments_lexer": "ipython3",
   "version": "3.9.10"
  },
  "orig_nbformat": 4
 },
 "nbformat": 4,
 "nbformat_minor": 2
}
